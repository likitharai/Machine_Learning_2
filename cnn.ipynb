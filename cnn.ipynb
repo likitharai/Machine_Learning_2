{
 "cells": [
  {
   "cell_type": "code",
   "execution_count": 15,
   "id": "b3a34a64",
   "metadata": {},
   "outputs": [
    {
     "name": "stdout",
     "output_type": "stream",
     "text": [
      "MNIST Train shape: (60000, 28, 28) (60000,)\n",
      "MNIST Test shape: (10000, 28, 28) (10000,)\n",
      "CIFAR-10 Train shape: (50000, 32, 32, 3) (50000, 1)\n",
      "CIFAR-10 Test shape: (10000, 32, 32, 3) (10000, 1)\n"
     ]
    }
   ],
   "source": [
    "import tensorflow as tf\n",
    "from tensorflow.keras.datasets import mnist, cifar10\n",
    "\n",
    "# Load MNIST dataset\n",
    "(x_train_mnist, y_train_mnist), (x_test_mnist, y_test_mnist) = mnist.load_data()\n",
    "\n",
    "print(\"MNIST Train shape:\", x_train_mnist.shape, y_train_mnist.shape)\n",
    "print(\"MNIST Test shape:\", x_test_mnist.shape, y_test_mnist.shape)\n",
    "\n",
    "# Load CIFAR-10 dataset\n",
    "(x_train_cifar, y_train_cifar), (x_test_cifar, y_test_cifar) = cifar10.load_data()\n",
    "\n",
    "print(\"CIFAR-10 Train shape:\", x_train_cifar.shape, y_train_cifar.shape)\n",
    "print(\"CIFAR-10 Test shape:\", x_test_cifar.shape, y_test_cifar.shape)\n"
   ]
  },
  {
   "cell_type": "code",
   "execution_count": 16,
   "id": "97b7bfea",
   "metadata": {},
   "outputs": [],
   "source": [
    "layer=tf.keras.layers.Dense(units=10,activation='relu')"
   ]
  }
 ],
 "metadata": {
  "kernelspec": {
   "display_name": "Python 3 (ipykernel)",
   "language": "python",
   "name": "python3"
  },
  "language_info": {
   "codemirror_mode": {
    "name": "ipython",
    "version": 3
   },
   "file_extension": ".py",
   "mimetype": "text/x-python",
   "name": "python",
   "nbconvert_exporter": "python",
   "pygments_lexer": "ipython3",
   "version": "3.13.7"
  }
 },
 "nbformat": 4,
 "nbformat_minor": 5
}
